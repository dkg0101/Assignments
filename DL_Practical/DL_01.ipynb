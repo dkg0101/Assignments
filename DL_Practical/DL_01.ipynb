{
  "cells": [
    {
      "cell_type": "markdown",
      "id": "d44be57a",
      "metadata": {
        "id": "d44be57a"
      },
      "source": [
        "### Objective: - Predict Next Sequence To start with deep learning, the very basic project that you can build is to predict the next digit in a sequence.\n",
        "\n",
        "Dataset: - Create a sequence like a list of odd numbers and then build a model and train it to predict the next digit in the sequence.\n",
        "\n",
        "Task: - A simple neural network with 2 layers would be sufficient to build the model.\n",
        "\n"
      ]
    },
    {
      "cell_type": "code",
      "execution_count": null,
      "id": "d6686a58",
      "metadata": {
        "id": "d6686a58"
      },
      "outputs": [],
      "source": [
        "#Importing dependencies\n",
        "import numpy as np\n",
        "import tensorflow as tf\n",
        "from tensorflow.keras.models import Sequential\n"
      ]
    },
    {
      "cell_type": "code",
      "execution_count": null,
      "id": "ad24a0f0",
      "metadata": {
        "scrolled": true,
        "id": "ad24a0f0"
      },
      "outputs": [],
      "source": [
        "\n",
        "import tensorflow as tf\n",
        "from tensorflow.keras.layers import Dense\n"
      ]
    },
    {
      "cell_type": "code",
      "execution_count": null,
      "id": "1b4c2710",
      "metadata": {
        "colab": {
          "base_uri": "https://localhost:8080/"
        },
        "id": "1b4c2710",
        "outputId": "b4c792eb-cba4-4007-9bb6-cb9b1bc1790d"
      },
      "outputs": [
        {
          "output_type": "execute_result",
          "data": {
            "text/plain": [
              "[1, 3, 5, 7, 9, 11, 13, 15, 17, 19]"
            ]
          },
          "metadata": {},
          "execution_count": 3
        }
      ],
      "source": [
        "# Generate the sequence of odd numbers\n",
        "sequence_length = 10\n",
        "starting_number = 1\n",
        "odd_numbers = [starting_number + 2*i for i in range(sequence_length)]\n",
        "odd_numbers"
      ]
    },
    {
      "cell_type": "code",
      "source": [
        "# Create input and target data\n",
        "input_sequence = np.array(odd_numbers[:-1])   # Input: first 9 odd numbers\n",
        "target_sequence = np.array(odd_numbers[1:])    # Target: next digit in the sequence\n"
      ],
      "metadata": {
        "id": "LrX5feW3J3Ub"
      },
      "id": "LrX5feW3J3Ub",
      "execution_count": null,
      "outputs": []
    },
    {
      "cell_type": "code",
      "source": [
        "input_sequence"
      ],
      "metadata": {
        "colab": {
          "base_uri": "https://localhost:8080/"
        },
        "id": "PKHqedwkKFa3",
        "outputId": "d7df3da8-e75c-4835-c105-69c7c1247e7e"
      },
      "id": "PKHqedwkKFa3",
      "execution_count": null,
      "outputs": [
        {
          "output_type": "execute_result",
          "data": {
            "text/plain": [
              "array([ 1,  3,  5,  7,  9, 11, 13, 15, 17])"
            ]
          },
          "metadata": {},
          "execution_count": 5
        }
      ]
    },
    {
      "cell_type": "code",
      "source": [
        "target_sequence\n"
      ],
      "metadata": {
        "colab": {
          "base_uri": "https://localhost:8080/"
        },
        "id": "1xgGiihbKFl-",
        "outputId": "b0f43d59-4bcf-40fe-cced-c5c52e1f9b4f"
      },
      "id": "1xgGiihbKFl-",
      "execution_count": null,
      "outputs": [
        {
          "output_type": "execute_result",
          "data": {
            "text/plain": [
              "array([ 3,  5,  7,  9, 11, 13, 15, 17, 19])"
            ]
          },
          "metadata": {},
          "execution_count": 6
        }
      ]
    },
    {
      "cell_type": "code",
      "execution_count": null,
      "id": "8679c271",
      "metadata": {
        "id": "8679c271"
      },
      "outputs": [],
      "source": [
        "model = Sequential()\n",
        "model.add(Dense(10, input_shape=(1,), activation='relu'))  # Input layer with first hidden layer\n",
        "model.add(Dense(1))  # Output layer with 1 neuron\n"
      ]
    },
    {
      "cell_type": "code",
      "execution_count": null,
      "id": "4da53b57",
      "metadata": {
        "id": "4da53b57"
      },
      "outputs": [],
      "source": [
        "model.compile(loss='mean_squared_error', optimizer='adam')\n"
      ]
    },
    {
      "cell_type": "code",
      "source": [
        "# fitting the model model\n",
        "model.fit(input_sequence, target_sequence, epochs=1000, verbose=0)\n"
      ],
      "metadata": {
        "colab": {
          "base_uri": "https://localhost:8080/"
        },
        "id": "i0Qj_O-8MszG",
        "outputId": "411c249e-d15b-4310-85d3-b1f1276f0b54"
      },
      "id": "i0Qj_O-8MszG",
      "execution_count": 13,
      "outputs": [
        {
          "output_type": "execute_result",
          "data": {
            "text/plain": [
              "<keras.callbacks.History at 0x7d224d38a0b0>"
            ]
          },
          "metadata": {},
          "execution_count": 13
        }
      ]
    },
    {
      "cell_type": "code",
      "source": [
        "#make prediction\n",
        "next = model.predict([17])\n",
        "print(round(next[0][0]))"
      ],
      "metadata": {
        "colab": {
          "base_uri": "https://localhost:8080/"
        },
        "id": "DluH-6_CNPXw",
        "outputId": "5848bb3d-0539-4b82-e51c-12d87104919e"
      },
      "id": "DluH-6_CNPXw",
      "execution_count": 19,
      "outputs": [
        {
          "output_type": "stream",
          "name": "stdout",
          "text": [
            "1/1 [==============================] - 0s 30ms/step\n",
            "19\n"
          ]
        }
      ]
    }
  ],
  "metadata": {
    "kernelspec": {
      "display_name": "Python 3",
      "name": "python3"
    },
    "language_info": {
      "codemirror_mode": {
        "name": "ipython",
        "version": 3
      },
      "file_extension": ".py",
      "mimetype": "text/x-python",
      "name": "python",
      "nbconvert_exporter": "python",
      "pygments_lexer": "ipython3",
      "version": "3.7.16"
    },
    "colab": {
      "provenance": [],
      "gpuType": "T4"
    },
    "accelerator": "GPU"
  },
  "nbformat": 4,
  "nbformat_minor": 5
}