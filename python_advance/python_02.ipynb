{
 "cells": [
  {
   "cell_type": "raw",
   "id": "ba9fc357",
   "metadata": {},
   "source": [
    "Q.1)Write a function that takes a positive integer num and calculates how many\n",
    "dots exist in a pentagonal shape around the center dot on the Nth iteration.\n",
    "In the image below you can see the first iteration is only a single dot. On the\n",
    "second, there are 6 dots. On the third, there are 16 dots, and on the fourth\n",
    "there are 31 dots.\n",
    "\n",
    "Return the number of dots that exist in the whole pentagon on the Nth\n",
    "iteration.\n",
    "Examples\n",
    "pentagonal(1) ➞ 1\n",
    "pentagonal(2) ➞ 6\n",
    "pentagonal(3) ➞ 16\n",
    "pentagonal(8) ➞ 141"
   ]
  },
  {
   "cell_type": "code",
   "execution_count": 17,
   "id": "ccde3f73",
   "metadata": {},
   "outputs": [
    {
     "name": "stdout",
     "output_type": "stream",
     "text": [
      "1\n",
      "6\n",
      "16\n",
      "141\n"
     ]
    }
   ],
   "source": [
    "def pentagonal(iteration):\n",
    "    if iteration <= 0:\n",
    "        return 0\n",
    "    return 1 + 5 * (iteration * (iteration - 1)) // 2\n",
    "\n",
    "\n",
    "# Test cases\n",
    "\n",
    "print(pentagonal(1))  \n",
    "print(pentagonal(2)) \n",
    "print(pentagonal(3))  \n",
    "print(pentagonal(8)) \n"
   ]
  },
  {
   "cell_type": "raw",
   "id": "87672a9a",
   "metadata": {},
   "source": [
    "2. Make a function that encrypts a given input with these steps:\n",
    "Input: \"apple\"\n",
    "Step 1: Reverse the input: \"elppa\"\n",
    "Step 2: Replace all vowels using the following chart:\n",
    "a => 0\n",
    "e => 1\n",
    "i => 2\n",
    "o => 2\n",
    "u => 3\n",
    "# \"1lpp0\"\n",
    "\n",
    "Step 3: \n",
    "Add \"aca\" to the end of the word: \"1lpp0aca\"\n",
    "Output: \"1lpp0aca\"\n",
    "Examples\n",
    "encrypt(\"banana\") ➞ \"0n0n0baca\"\n",
    "encrypt(\"karaca\") ➞ \"0c0r0kaca\"\n",
    "encrypt(\"burak\") ➞ \"k0r3baca\"\n",
    "encrypt(\"alpaca\") ➞ \"0c0pl0aca\""
   ]
  },
  {
   "cell_type": "code",
   "execution_count": 30,
   "id": "2809463f",
   "metadata": {},
   "outputs": [
    {
     "ename": "TypeError",
     "evalue": "'str' object does not support item assignment",
     "output_type": "error",
     "traceback": [
      "\u001b[1;31m---------------------------------------------------------------------------\u001b[0m",
      "\u001b[1;31mTypeError\u001b[0m                                 Traceback (most recent call last)",
      "Input \u001b[1;32mIn [30]\u001b[0m, in \u001b[0;36m<cell line: 2>\u001b[1;34m()\u001b[0m\n\u001b[0;32m      1\u001b[0m l \u001b[38;5;241m=\u001b[39m \u001b[38;5;124m'\u001b[39m\u001b[38;5;124mabcd\u001b[39m\u001b[38;5;124m'\u001b[39m\n\u001b[1;32m----> 2\u001b[0m l[\u001b[38;5;241m0\u001b[39m]\u001b[38;5;241m=\u001b[39m\u001b[38;5;124m'\u001b[39m\u001b[38;5;124mj\u001b[39m\u001b[38;5;124m'\u001b[39m\n",
      "\u001b[1;31mTypeError\u001b[0m: 'str' object does not support item assignment"
     ]
    }
   ],
   "source": [
    "l = 'abcd'\n",
    "l[0]='j'\n"
   ]
  },
  {
   "cell_type": "code",
   "execution_count": 31,
   "id": "eda6454d",
   "metadata": {},
   "outputs": [
    {
     "name": "stdout",
     "output_type": "stream",
     "text": [
      "b0n0n0aca\n",
      "None\n",
      "k0r0c0aca\n",
      "None\n",
      "b3r0kaca\n",
      "None\n",
      "0lp0c0aca\n",
      "None\n"
     ]
    }
   ],
   "source": [
    "\n",
    "def encrypt(string):\n",
    "    encode = {'a':0,'e':1,'i':2,'o':2,'u':3}\n",
    "    \n",
    "    string = list(string)\n",
    "    for s in string:\n",
    "        if s in encode.keys():\n",
    "            string[string.index(s)] = str(encode[s])\n",
    "    string = ''.join(string) + 'aca'\n",
    "    print(string)\n",
    "\n",
    "            \n",
    "\n",
    "print(encrypt(\"banana\") )\n",
    "print(encrypt(\"karaca\"))\n",
    "print(encrypt(\"burak\"))\n",
    "print(encrypt(\"alpaca\") )"
   ]
  },
  {
   "cell_type": "raw",
   "id": "8ab7500a",
   "metadata": {},
   "source": [
    "3. Given the month and year as numbers, return whether that month contains\n",
    "a Friday 13th.(i.e You can check Python's datetime datetime module)\n",
    "Examples\n",
    "has_friday_13(3, 2020) ➞ True\n",
    "has_friday_13(10, 2017) ➞ True\n",
    "has_friday_13(1, 1985) ➞ False"
   ]
  },
  {
   "cell_type": "code",
   "execution_count": 46,
   "id": "46247d0c",
   "metadata": {},
   "outputs": [
    {
     "name": "stdout",
     "output_type": "stream",
     "text": [
      "True\n",
      "True\n",
      "False\n"
     ]
    }
   ],
   "source": [
    "from datetime import datetime\n",
    "def has_friday_13(month,year):\n",
    "    date = datetime(int(year),int(month),13)\n",
    "    return date.weekday() == 4    # 0:monday, 1:tuesday, 2:wedensday, 3:thursday , 4:friday, 5:saturday, 6:sunday\n",
    "\n",
    "\n",
    "print(has_friday_13(3, 2020))\n",
    "print(has_friday_13(10, 2017))\n",
    "print(has_friday_13(1, 1985))"
   ]
  },
  {
   "cell_type": "raw",
   "id": "ac3f21d1",
   "metadata": {},
   "source": [
    "4. Write a regular expression that will help us count how many bad cookies are produced every day. You must use RegEx negative lookbehind.\n",
    "\n",
    "Example\n",
    "\n",
    "lst = [\"bad cookie\", \"good cookie\", \"bad cookie\", \"good cookie\", \"good cookie\"]\n",
    "pattern = \"yourregularexpressionhere\"\n",
    "\n",
    "len(re.findall(pattern, \", \".join(lst))) ➞ 2"
   ]
  },
  {
   "cell_type": "code",
   "execution_count": 79,
   "id": "e9e81479",
   "metadata": {},
   "outputs": [
    {
     "data": {
      "text/plain": [
       "2"
      ]
     },
     "execution_count": 79,
     "metadata": {},
     "output_type": "execute_result"
    }
   ],
   "source": [
    "# program to find the bad cookie without tasting it.\n",
    "\n",
    "import re\n",
    "\n",
    "lst = [\"bad cookie\", \"good cookie\", \"bad cookie\", \"good cookie\", \"good cookie\"]\n",
    "pattern = r\"(?<=bad)\"\n",
    "len(re.findall(pattern, \", \".join(lst))) "
   ]
  },
  {
   "cell_type": "raw",
   "id": "ff63a139",
   "metadata": {},
   "source": [
    "5. Given a list of words in the singular form, return a set of those words in the plural form if they appear more than once in the list.\n",
    "\n",
    "Examples\n",
    "\n",
    "pluralize([\"cow\", \"pig\", \"cow\", \"cow\"]) ➞ { \"cows\", \"pig\" }\n",
    "\n",
    "pluralize([\"table\", \"table\", \"table\"]) ➞ { \"tables\" }\n",
    "\n",
    "pluralize([\"chair\", \"pencil\", \"arm\"]) ➞ { \"chair\", \"pencil\", \"arm\" }"
   ]
  },
  {
   "cell_type": "code",
   "execution_count": 78,
   "id": "727a6aae",
   "metadata": {},
   "outputs": [
    {
     "name": "stdout",
     "output_type": "stream",
     "text": [
      "['cows', 'pig', 'cows', 'cows']\n",
      "['tables', 'tables', 'tables']\n",
      "['chair', 'pencil', 'arm']\n"
     ]
    }
   ],
   "source": [
    "def pluralize(words_list:list):\n",
    "    unique = set(words_list)\n",
    "    for word in unique:\n",
    "        if words_list.count(word) > 1:\n",
    "            old = ' '.join(words_list)\n",
    "            \n",
    "            #replace with plural form\n",
    "            \n",
    "            new = old.replace(word,word+'s')\n",
    "            \n",
    "            return new.split()\n",
    "        \n",
    "        return words_list\n",
    "    \n",
    "\n",
    "\n",
    "print(pluralize([\"cow\", \"pig\", \"cow\", \"cow\"]))\n",
    "print(pluralize([\"table\", \"table\", \"table\"]))\n",
    "print(pluralize([\"chair\", \"pencil\", \"arm\"]))"
   ]
  },
  {
   "cell_type": "code",
   "execution_count": null,
   "id": "d5a3fa90",
   "metadata": {},
   "outputs": [],
   "source": []
  }
 ],
 "metadata": {
  "kernelspec": {
   "display_name": "Python 3 (ipykernel)",
   "language": "python",
   "name": "python3"
  },
  "language_info": {
   "codemirror_mode": {
    "name": "ipython",
    "version": 3
   },
   "file_extension": ".py",
   "mimetype": "text/x-python",
   "name": "python",
   "nbconvert_exporter": "python",
   "pygments_lexer": "ipython3",
   "version": "3.9.12"
  }
 },
 "nbformat": 4,
 "nbformat_minor": 5
}
