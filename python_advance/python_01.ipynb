{
 "cells": [
  {
   "cell_type": "code",
   "execution_count": null,
   "id": "d018df72",
   "metadata": {},
   "outputs": [],
   "source": [
    "Q.1 Write a function that takes a list of lists and returns the value of all of the\n",
    "symbols in it, where each symbol adds or takes something from the total\n",
    "score. Symbol values:\n",
    "# = 5\n",
    "O = 3\n",
    "X = 1\n",
    "! = -1\n",
    "!! = -3\n",
    "!!! = -5\n",
    "A list of lists containing 2 #s, a O, and a !!! would equal (0 + 5 + 5 + 3 - 5) 8.\n",
    "If the final score is negative, return 0 (e.g. 3 #s, 3 !!s, 2 !!!s and a X would be\n",
    "(0 + 5 + 5 + 5 - 3 - 3 - 3 - 5 - 5 + 1) -3, so return 0.\n",
    "Examples\n",
    "check_score([[\"#\", \"!\"],[\"!!\", \"X\"]]) ➞ 2\n",
    "check_score([[\"!!!\", \"O\", \"!\"],[\"X\", \"#\", \"!!!\"],[\"!!\", \"X\", \"O\"]]) ➞ -1"
   ]
  },
  {
   "cell_type": "code",
   "execution_count": 1,
   "id": "ef520df1",
   "metadata": {},
   "outputs": [
    {
     "name": "stdout",
     "output_type": "stream",
     "text": [
      "2\n",
      "0\n"
     ]
    }
   ],
   "source": [
    "score_map = { '#':5,'O':3,'X':1,'!':-1,'!!':-3,'!!!':-5}\n",
    "\n",
    "def check_score(lists):\n",
    "    addition = 0\n",
    "    for lst in lists:\n",
    "        for j in lst:\n",
    "            addition +=  score_map[j]\n",
    "            \n",
    "    if addition < 0:\n",
    "        addition =0\n",
    "        return addition \n",
    "    \n",
    "    return addition\n",
    "     \n",
    "print(check_score([[\"#\", \"!\"],[\"!!\", \"X\"]]))\n",
    "print(check_score([[\"!!!\", \"O\", \"!\"],[\"X\", \"#\", \"!!!\"],[\"!!\", \"X\", \"O\"]]))"
   ]
  },
  {
   "cell_type": "code",
   "execution_count": null,
   "id": "2a3cb3dc",
   "metadata": {},
   "outputs": [],
   "source": [
    "2. Create a function that takes a variable number of arguments, each\n",
    "argument representing the number of items in a group, and returns the\n",
    "number of permutations (combinations) of items that you could get by taking\n",
    "one item from each group.\n",
    "Examples\n",
    "combinations(2, 3) ➞ 6\n",
    "combinations(3, 7, 4) ➞ 84\n",
    "combinations(2, 3, 4, 5) ➞ 120"
   ]
  },
  {
   "cell_type": "code",
   "execution_count": 2,
   "id": "53b062b1",
   "metadata": {},
   "outputs": [
    {
     "name": "stdout",
     "output_type": "stream",
     "text": [
      "6\n",
      "84\n",
      "120\n"
     ]
    }
   ],
   "source": [
    "def combinations(*nums):\n",
    "    mul = 1\n",
    "    for n in nums:\n",
    "        mul *= n\n",
    "        \n",
    "    return mul\n",
    "print(combinations(2, 3))\n",
    "print(combinations(3, 7, 4))\n",
    "print(combinations(2, 3, 4, 5))"
   ]
  },
  {
   "cell_type": "code",
   "execution_count": null,
   "id": "1c52f36c",
   "metadata": {},
   "outputs": [],
   "source": [
    "3. Create a function that takes a string as an argument and returns the Morse\n",
    "code equivalent.\n",
    "Examples\n",
    "encode_morse(\"EDABBIT CHALLENGE\") ➞ \". -.. .- -... -... .. - -.-. .... .- .-.. .-... -. --. .\"\n",
    "encode_morse(\"HELP ME !\") ➞ \".... . .-.. .--. -- . -.-.--\"\n",
    "This dictionary can be used for coding:\n",
    "char_to_dots = {\"A\": \".-\", \"B\": \"-...\", \"C\": \"-.-.\", \n",
    "                \"D\": \"-..\", \"E\": \".\", \"F\": \"..-.\",\n",
    "                \"G\": \"--.\", \"H\": \"....\", \"I\": \"..\", \n",
    "                \"J\": \".---\", \"K\": \"-.-\", \"L\": \".-..\",\n",
    "                \"M\": \"--\", \"N\": \"-.\", \"O\": \"---\", \n",
    "                \"P\": \".--.\", \"Q\": \"--.-\", \"R\": \".-.\",\n",
    "                \"S\": \"...\", \"T\": \"-\", \"U\": \"..-\", \n",
    "                \"V\": \"...-\", \"W\": \".--\", \"X\": \"-..-\",\n",
    "                \"Y\": \"-.--\", \"Z\": \"--..\", \" \": \" \", \n",
    "                \"0\": \"-----\",\"1\": \".----\", \"2\": \"..---\",\n",
    "                \"3\": \"...--\", \"4\": \"....-\", \"5\": \".....\",\n",
    "                \"6\": \"-....\", \"7\": \"--...\", \"8\": \"---..\", \n",
    "                \"9\": \"----.\",\"&\": \".-...\",\"'\": \".----.\", \n",
    "                \"@\": \".--.-.\", \")\": \"-.--.-\", \"(\": \"-.--.\",\n",
    "                \":\": \"---...\", \",\": \"--..--\", \"=\": \"-...-\", \n",
    "                \"!\": \"-.-.--\", \".\": \".-.-.-\",\"-\": \"-....-\", \n",
    "                \"+\": \".-.-.\", \"'\": \".-..-.\", \"?\": \"..--..\",\n",
    "                \"/\": \"-..-.\"}"
   ]
  },
  {
   "cell_type": "code",
   "execution_count": 3,
   "id": "d2573a5c",
   "metadata": {},
   "outputs": [],
   "source": [
    "char_to_dots = {\"A\": \".-\", \"B\": \"-...\", \"C\": \"-.-.\", \n",
    "                \"D\": \"-..\", \"E\": \".\", \"F\": \"..-.\",\n",
    "                \"G\": \"--.\", \"H\": \"....\", \"I\": \"..\", \n",
    "                \"J\": \".---\", \"K\": \"-.-\", \"L\": \".-..\",\n",
    "                \"M\": \"--\", \"N\": \"-.\", \"O\": \"---\", \n",
    "                \"P\": \".--.\", \"Q\": \"--.-\", \"R\": \".-.\",\n",
    "                \"S\": \"...\", \"T\": \"-\", \"U\": \"..-\", \n",
    "                \"V\": \"...-\", \"W\": \".--\", \"X\": \"-..-\",\n",
    "                \"Y\": \"-.--\", \"Z\": \"--..\", \" \": \" \", \n",
    "                \"0\": \"-----\",\"1\": \".----\", \"2\": \"..---\",\n",
    "                \"3\": \"...--\", \"4\": \"....-\", \"5\": \".....\",\n",
    "                \"6\": \"-....\", \"7\": \"--...\", \"8\": \"---..\", \n",
    "                \"9\": \"----.\",\"&\": \".-...\",\"'\": \".----.\", \n",
    "                \"@\": \".--.-.\", \")\": \"-.--.-\", \"(\": \"-.--.\",\n",
    "                \":\": \"---...\", \",\": \"--..--\", \"=\": \"-...-\", \n",
    "                \"!\": \"-.-.--\", \".\": \".-.-.-\",\"-\": \"-....-\", \n",
    "                \"+\": \".-.-.\", \"'\": \".-..-.\", \"?\": \"..--..\",\n",
    "                \"/\": \"-..-.\"}"
   ]
  },
  {
   "cell_type": "code",
   "execution_count": 17,
   "id": "3c334f9d",
   "metadata": {},
   "outputs": [
    {
     "name": "stdout",
     "output_type": "stream",
     "text": [
      "......-...--. --. -.-.--\n",
      ".-...--...-.....- -.-......-.-...-...-.--..\n"
     ]
    }
   ],
   "source": [
    "def encode_morse(string):\n",
    "    encode = []\n",
    "    for i in string :\n",
    "        encode.append((char_to_dots[i]))\n",
    "    \n",
    "    return ''.join(encode)\n",
    "\n",
    "\n",
    "print(encode_morse(\"HELP ME !\"))\n",
    "print(encode_morse(\"EDABBIT CHALLENGE\") )"
   ]
  },
  {
   "cell_type": "code",
   "execution_count": null,
   "id": "82dfcc14",
   "metadata": {},
   "outputs": [],
   "source": [
    "4. Write a function that takes a number and returns True if it&#39;s a prime; False\n",
    "otherwise. The number can be 2^64-1 (2 to the power of 63, not XOR). With\n",
    "the standard technique it would be O(2^64-1), which is much too large for the\n",
    "10 second time limit.\n",
    "Examples\n",
    "prime(7) ➞ True\n",
    "prime(56963) ➞ True\n",
    "prime(5151512515524) ➞ False"
   ]
  },
  {
   "cell_type": "code",
   "execution_count": 35,
   "id": "ef5d4aad",
   "metadata": {},
   "outputs": [
    {
     "name": "stdout",
     "output_type": "stream",
     "text": [
      "True\n",
      "True\n",
      "False\n"
     ]
    }
   ],
   "source": [
    "def is_prime(n):\n",
    "          \"\"\"Returns True if n is a prime number, False otherwise.\"\"\"\n",
    "          if n <= 1:\n",
    "            return False\n",
    "          if n == 2:\n",
    "            return True\n",
    "          # Optimized version of the Sieve of Eratosthenes\n",
    "          # Only consider odd numbers from 3 to sqrt(n)\n",
    "          for i in range(3, int(n**0.5) + 1, 2):\n",
    "            if n % i == 0:\n",
    "                return False\n",
    "            \n",
    "          return True\n",
    "    \n",
    "print(is_prime(7))  \n",
    "print(is_prime(56963))  \n",
    "print(is_prime(5151512515524))  \n",
    "\n"
   ]
  },
  {
   "cell_type": "code",
   "execution_count": null,
   "id": "01864a4d",
   "metadata": {},
   "outputs": [],
   "source": [
    "5. Create a function that converts a word to a bitstring and then to a boolean\n",
    "list based on the following criteria:\n",
    "1. Locate the position of the letter in the English alphabet (from 1 to 26).\n",
    "2. Odd positions will be represented as 1 and 0 otherwise.\n",
    "3. Convert the represented positions to boolean values, 1 for True and 0\n",
    "for False.\n",
    "4. Store the conversions into an array.\n",
    "Examples\n",
    "to_boolean_list(\"deep\") ➞ [False, True, True, False]\n",
    "# deep converts to 0110\n",
    "# d is the 4th alphabet - 0\n",
    "# e is the 5th alphabet - 1\n",
    "# e is the 5th alphabet - 1\n",
    "# p is the 16th alphabet - 0\n",
    "to_boolean_list(\"loves\") ➞ [False, True, False, True, True]\n",
    "to_boolean_list(\"tesh\") ➞ [False, True, True, False] "
   ]
  },
  {
   "cell_type": "code",
   "execution_count": 30,
   "id": "6afa53ff",
   "metadata": {},
   "outputs": [
    {
     "name": "stdout",
     "output_type": "stream",
     "text": [
      "[False, True, True, False]\n",
      "[False, True, False, True, True]\n",
      "[False, True, True, False]\n"
     ]
    }
   ],
   "source": [
    "def to_boolean_list(word):\n",
    "    \n",
    "    alphabet = \"abcdefghijklmnopqrstuvwxyz\"\n",
    "    bitstring =[]\n",
    "    \n",
    "    for letter in word:\n",
    "        position =1\n",
    "        #find position\n",
    "        position += alphabet.find(letter)\n",
    "        \n",
    "        if position%2:\n",
    "            #odd positon-->1--> True\n",
    "            bitstring.append(True)\n",
    "            \n",
    "        else:\n",
    "            #even position -->0--False\n",
    "            bitstring.append(False)\n",
    "    \n",
    "    return bitstring\n",
    "        \n",
    "print(to_boolean_list(\"deep\"))  \n",
    "print(to_boolean_list(\"loves\"))\n",
    "print(to_boolean_list(\"tesh\"))        \n",
    "       \n",
    "        \n",
    "\n",
    "    "
   ]
  },
  {
   "cell_type": "code",
   "execution_count": null,
   "id": "1f5292fa",
   "metadata": {},
   "outputs": [],
   "source": []
  }
 ],
 "metadata": {
  "kernelspec": {
   "display_name": "Python 3 (ipykernel)",
   "language": "python",
   "name": "python3"
  },
  "language_info": {
   "codemirror_mode": {
    "name": "ipython",
    "version": 3
   },
   "file_extension": ".py",
   "mimetype": "text/x-python",
   "name": "python",
   "nbconvert_exporter": "python",
   "pygments_lexer": "ipython3",
   "version": "3.9.12"
  }
 },
 "nbformat": 4,
 "nbformat_minor": 5
}
